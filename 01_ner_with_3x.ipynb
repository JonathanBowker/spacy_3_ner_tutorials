{
 "cells": [
  {
   "cell_type": "code",
   "execution_count": 3,
   "id": "mexican-verification",
   "metadata": {},
   "outputs": [],
   "source": [
    "from spacy.tokens import DocBin\n",
    "import spacy\n",
    "import json\n",
    "from tqdm import tqdm\n",
    "import spacy\n",
    "from spacy.tokens import DocBin\n",
    "import random"
   ]
  },
  {
   "cell_type": "code",
   "execution_count": 2,
   "id": "experienced-covering",
   "metadata": {},
   "outputs": [],
   "source": [
    "def load_data(file):\n",
    "    with open (file, \"r\", encoding=\"utf-8\") as f:\n",
    "        data = json.load(f)\n",
    "    return (data)\n",
    "\n",
    "def write_data(file, data):\n",
    "    with open (file, \"w\", encoding=\"utf-8\") as f:\n",
    "        json.dump(data, f, indent=4)"
   ]
  },
  {
   "cell_type": "code",
   "execution_count": 5,
   "id": "regulated-custom",
   "metadata": {},
   "outputs": [
    {
     "name": "stdout",
     "output_type": "stream",
     "text": [
      "['In charge of Gestapo headquarters In 1942 Gestapo took over the building of the state archives, \"Arkivet\" in Kristiansand.  The local Gestapo commander was Rudolf Kerner, and it was he who determined who should be heard. During the war was about 3,500 Norwegians from Sørlandet arrested on of more than four days. Over 400 were tortured by the German security police and Gestapo, and 162 died in concentration camps or were executed. One of the tortured was resistance fighter Louis Hogganvik. \"Horror house\" as the nickname was of Arkivet, is today the only surviving Gestapo headquarters in  Norway, and appears almost authentic. Kerner was in charge of several  German security police actions at Sørlandet in World War II together with the Norwegian Statspolitiet .', {'entities': [(344, 350, 'CAMP'), (665, 671, 'CAMP')]}]\n"
     ]
    }
   ],
   "source": [
    "camp = load_data(\"data/camp.json\")\n",
    "def convert_data(data):\n",
    "    final = []\n",
    "    for item in data:\n",
    "        text = item[\"text\"]\n",
    "        ents = item[\"spans\"]\n",
    "        final_ents = []\n",
    "        for ent in ents:\n",
    "            start, end, label = ent[\"start\"], ent[\"end\"], ent[\"label\"]\n",
    "            final_ents.append((start, end, label))\n",
    "        ents = {\"entities\": final_ents}\n",
    "        final.append([text, ents])\n",
    "    return (final)\n",
    "camp = convert_data(camp)\n",
    "random.shuffle(camp)\n",
    "camp_train = camp[0:500]\n",
    "camp_valid = camp[501:1000]\n",
    "write_data(\"data/camp_train.json\", camp_train)\n",
    "write_data(\"data/camp_valid.json\", camp_valid)\n",
    "print (camp_train[0])"
   ]
  },
  {
   "cell_type": "code",
   "execution_count": 24,
   "id": "raised-fundamental",
   "metadata": {},
   "outputs": [],
   "source": [
    "\n",
    "nlp = spacy.blank(\"en\") \n",
    "def create_training(TRAIN_DATA):\n",
    "    db = DocBin() # create a DocBin object\n",
    "    for text, annot in tqdm(TRAIN_DATA): # data in previous format\n",
    "        doc = nlp.make_doc(text) # create doc object from text\n",
    "        ents = []\n",
    "        for start, end, label in annot[\"entities\"]: # add character indexes\n",
    "            span = doc.char_span(start, end, label=label, alignment_mode=\"contract\")\n",
    "            if span is None:\n",
    "                print(\"Skipping entity\")\n",
    "            else:\n",
    "                ents.append(span)\n",
    "        doc.ents = ents # label the text with the ents\n",
    "        db.add(doc)\n",
    "    return (db)"
   ]
  },
  {
   "cell_type": "code",
   "execution_count": 25,
   "id": "sixth-township",
   "metadata": {},
   "outputs": [
    {
     "name": "stderr",
     "output_type": "stream",
     "text": [
      "100%|██████████| 500/500 [00:00<00:00, 865.92it/s]\n",
      "100%|██████████| 499/499 [00:00<00:00, 1122.63it/s]\n"
     ]
    }
   ],
   "source": [
    "camp_train = create_training(camp_train)\n",
    "camp_train.to_disk(\"./data/camp_train.spacy\")\n",
    "\n",
    "camp_valid = create_training(camp_valid)\n",
    "camp_valid.to_disk(\"./data/camp_valid.spacy\")"
   ]
  },
  {
   "cell_type": "code",
   "execution_count": null,
   "id": "threaded-hurricane",
   "metadata": {},
   "outputs": [],
   "source": []
  }
 ],
 "metadata": {
  "kernelspec": {
   "display_name": "Python 3",
   "language": "python",
   "name": "python3"
  },
  "language_info": {
   "codemirror_mode": {
    "name": "ipython",
    "version": 3
   },
   "file_extension": ".py",
   "mimetype": "text/x-python",
   "name": "python",
   "nbconvert_exporter": "python",
   "pygments_lexer": "ipython3",
   "version": "3.8.8"
  }
 },
 "nbformat": 4,
 "nbformat_minor": 5
}
