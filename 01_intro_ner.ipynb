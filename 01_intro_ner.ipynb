{
 "cells": [
  {
   "cell_type": "code",
   "execution_count": 2,
   "id": "promising-radar",
   "metadata": {},
   "outputs": [],
   "source": [
    "from spacy.tokens import DocBin\n",
    "import spacy\n",
    "import json\n",
    "from tqdm import tqdm\n",
    "import random"
   ]
  },
  {
   "cell_type": "code",
   "execution_count": 3,
   "id": "rural-acquisition",
   "metadata": {},
   "outputs": [],
   "source": [
    "def load_data(file):\n",
    "    with open (file, \"r\", encoding=\"utf-8\") as f:\n",
    "        data = json.load(f)\n",
    "    return (data)"
   ]
  },
  {
   "cell_type": "code",
   "execution_count": 4,
   "id": "about-ukraine",
   "metadata": {},
   "outputs": [],
   "source": [
    "camp_train = load_data(\"data/camp_train.json\")"
   ]
  },
  {
   "cell_type": "code",
   "execution_count": 5,
   "id": "increased-buddy",
   "metadata": {},
   "outputs": [
    {
     "name": "stdout",
     "output_type": "stream",
     "text": [
      "['In charge of Gestapo headquarters In 1942 Gestapo took over the building of the state archives, \"Arkivet\" in Kristiansand.  The local Gestapo commander was Rudolf Kerner, and it was he who determined who should be heard. During the war was about 3,500 Norwegians from Sørlandet arrested on of more than four days. Over 400 were tortured by the German security police and Gestapo, and 162 died in concentration camps or were executed. One of the tortured was resistance fighter Louis Hogganvik. \"Horror house\" as the nickname was of Arkivet, is today the only surviving Gestapo headquarters in  Norway, and appears almost authentic. Kerner was in charge of several  German security police actions at Sørlandet in World War II together with the Norwegian Statspolitiet .', {'entities': [[344, 350, 'CAMP'], [665, 671, 'CAMP']]}]\n"
     ]
    }
   ],
   "source": [
    "print (camp_train[0])"
   ]
  },
  {
   "cell_type": "code",
   "execution_count": 6,
   "id": "classical-stopping",
   "metadata": {},
   "outputs": [],
   "source": [
    "camp_valid = load_data(\"data/camp_valid.json\")"
   ]
  },
  {
   "cell_type": "code",
   "execution_count": 8,
   "id": "laden-technique",
   "metadata": {},
   "outputs": [],
   "source": [
    "nlp = spacy.blank(\"en\")\n",
    "def create_training(TRAIN_DATA):\n",
    "    db = DocBin()\n",
    "    for text, annot in tqdm(TRAIN_DATA):\n",
    "        doc = nlp.make_doc(text)\n",
    "        ents = []\n",
    "        for start, end, label in annot[\"entities\"]:\n",
    "            span = doc.char_span(start, end, label=label, alignment_mode=\"contract\")\n",
    "            if span is None:\n",
    "                print (\"Skipping entity\")\n",
    "            else:\n",
    "                ents.append(span)\n",
    "        doc.ents = ents\n",
    "        db.add(doc)\n",
    "    return (db)"
   ]
  },
  {
   "cell_type": "code",
   "execution_count": 9,
   "id": "sexual-equilibrium",
   "metadata": {},
   "outputs": [
    {
     "name": "stderr",
     "output_type": "stream",
     "text": [
      "100%|██████████| 500/500 [00:00<00:00, 531.13it/s]\n"
     ]
    }
   ],
   "source": [
    "camp_train = create_training(camp_train)\n",
    "camp_train.to_disk(\"./data/camp_train.spacy\")"
   ]
  },
  {
   "cell_type": "code",
   "execution_count": 10,
   "id": "synthetic-chicago",
   "metadata": {},
   "outputs": [
    {
     "name": "stderr",
     "output_type": "stream",
     "text": [
      "100%|██████████| 499/499 [00:00<00:00, 647.76it/s]\n"
     ]
    }
   ],
   "source": [
    "camp_valid = create_training(camp_valid)\n",
    "camp_valid.to_disk(\"./data/camp_valid.spacy\")"
   ]
  },
  {
   "cell_type": "code",
   "execution_count": null,
   "id": "persistent-combine",
   "metadata": {},
   "outputs": [],
   "source": []
  }
 ],
 "metadata": {
  "kernelspec": {
   "display_name": "Python 3",
   "language": "python",
   "name": "python3"
  },
  "language_info": {
   "codemirror_mode": {
    "name": "ipython",
    "version": 3
   },
   "file_extension": ".py",
   "mimetype": "text/x-python",
   "name": "python",
   "nbconvert_exporter": "python",
   "pygments_lexer": "ipython3",
   "version": "3.8.8"
  }
 },
 "nbformat": 4,
 "nbformat_minor": 5
}
